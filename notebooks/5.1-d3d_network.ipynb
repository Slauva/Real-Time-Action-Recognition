{
 "cells": [
  {
   "cell_type": "code",
   "execution_count": 1,
   "metadata": {},
   "outputs": [],
   "source": [
    "# Warnings ignoring\n",
    "import warnings\n",
    "warnings.filterwarnings(\"ignore\")\n",
    "\n",
    "# OS tools\n",
    "import os\n",
    "import typing\n",
    "from pathlib import Path\n",
    "from dataclasses import dataclass\n",
    "from collections import Counter\n",
    "\n",
    "# Tables, arrays, and plotters \n",
    "import pandas as pd\n",
    "import numpy as np\n",
    "import matplotlib.pyplot as plt\n",
    "\n",
    "# Torch\n",
    "import torch\n",
    "import torch.nn as nn\n",
    "from torch.utils.data import Dataset, DataLoader\n",
    "from torchmetrics import F1Score\n",
    "\n",
    "# Video Processing\n",
    "from torchvision.io import read_video\n",
    "from torchvision.transforms import v2\n",
    "import torchvision.transforms as tt\n",
    "import torchvision.models as models\n",
    "from torchvision.models.optical_flow import raft_small\n",
    "from torchvision.utils import flow_to_image\n",
    "from torchvision.transforms.functional import resize\n",
    "\n",
    "# Lighting\n",
    "import pytorch_lightning as pl\n",
    "from pytorch_lightning import Trainer, strategies\n",
    "from pytorch_lightning.callbacks import ModelCheckpoint, EarlyStopping\n",
    "from pytorch_lightning.utilities import grad_norm\n",
    "from pytorch_lightning.loggers import TensorBoardLogger\n",
    "\n",
    "# Ready scripts\n",
    "from lib.utils import init_weights, count_trainable_parameters\n",
    "from lib.trainer import HParams, VideoDataModule"
   ]
  },
  {
   "cell_type": "code",
   "execution_count": 8,
   "metadata": {},
   "outputs": [],
   "source": [
    "torch.set_float32_matmul_precision('medium')"
   ]
  },
  {
   "cell_type": "code",
   "execution_count": 9,
   "metadata": {},
   "outputs": [],
   "source": [
    "class OpticalFlow(nn.Module):\n",
    "    def __init__(self):\n",
    "        super(OpticalFlow, self).__init__()\n",
    "        self.backbone = raft_small(pretrained=True)\n",
    "        \n",
    "        for param in self.backbone.parameters():\n",
    "            param.requires_grad = False\n",
    "            \n",
    "    def forward(self, x: torch.Tensor) -> torch.Tensor:\n",
    "        # [B, C, T, H, W] -> [B, T, C, H, W]\n",
    "        x = x.permute(0, 2, 1, 3, 4)\n",
    "        T = x.shape[1]\n",
    "        \n",
    "        flow_seq = []\n",
    "\n",
    "        for t in range(T - 1):\n",
    "            img1 = x[:, t]  # [B, 3, H, W]\n",
    "            img2 = x[:, t + 1]  # [B, 3, H, W]\n",
    "\n",
    "            with torch.no_grad():\n",
    "                flow = self.backbone(img1, img2)  # returns [B, 2, H', W']\n",
    "            flow_img = flow_to_image(flow[-1])\n",
    "            # Resize back to original shape\n",
    "            flow_seq.append(flow_img.unsqueeze(2))  # [B, 2, 1, H, W]\n",
    "\n",
    "        # Pad the first frame with zeros to match original T\n",
    "        zero_flow = torch.zeros_like(flow_seq[0])\n",
    "        flow_seq = [zero_flow] + flow_seq\n",
    "\n",
    "        flow_tensor = torch.cat(flow_seq, dim=2)  # [B, 2, T, H, W]\n",
    "        return flow_tensor\n",
    "\n",
    "\n",
    "class D3DNet(nn.Module):\n",
    "    def __init__(self, n_outputs: int):\n",
    "        super(D3DNet, self).__init__()\n",
    "        \n",
    "        self.raft = OpticalFlow()\n",
    "        self.backbone = models.video.r3d_18(pretrained=True)\n",
    "        self.backbone.fc = nn.Identity()\n",
    "        \n",
    "        self.teacher = models.resnet18(pretrained=True)\n",
    "        self.teacher.fc = nn.Identity()\n",
    "        \n",
    "        self.classifier = nn.Sequential(\n",
    "            nn.Linear(512, 512),\n",
    "            nn.ReLU(inplace=True),\n",
    "            nn.Dropout(),\n",
    "            \n",
    "            nn.Linear(512, n_outputs)\n",
    "        )\n",
    "        \n",
    "        for param in self.backbone.parameters():\n",
    "            param.requires_grad = False\n",
    "        \n",
    "        for param in self.teacher.parameters():\n",
    "            param.requires_grad = False\n",
    "    \n",
    "    def forward(self, x: torch.Tensor):\n",
    "        feat3d = self.backbone(x)\n",
    "        logits = self.classifier(feat3d)\n",
    "        \n",
    "        if self.training:\n",
    "            y: torch.Tensor = self.raft(x)\n",
    "            B, C, T, H, W = y.shape\n",
    "            y = y.permute(0, 2, 1, 3, 4).reshape(B * T, C, H, W)\n",
    "            feat2d = self.teacher(y / 255)\n",
    "            feat2d = feat2d.view(B, T, -1).mean(dim=1)\n",
    "            return logits, feat3d, feat2d\n",
    "        return logits"
   ]
  },
  {
   "cell_type": "code",
   "execution_count": 10,
   "metadata": {},
   "outputs": [],
   "source": [
    "class train_model(pl.LightningModule):\n",
    "    def __init__(self, model: nn.Module = None, params: HParams = None, alpha: float = 0.5):\n",
    "        super().__init__()\n",
    "        self.save_hyperparameters(\n",
    "            params.__dict__,\n",
    "            ignore=(\"dataset_dir\", \"train_meta\", \"test_meta\", \"validation_meta\"),\n",
    "        )\n",
    "        self.params = params\n",
    "        self.model = model\n",
    "\n",
    "        self.accuracy = F1Score(\n",
    "            task=\"multiclass\", num_classes=params.n_classes, average=\"micro\"\n",
    "        )\n",
    "        self.criterion = nn.CrossEntropyLoss(label_smoothing=params.ls)\n",
    "        self.criterion_distill = nn.MSELoss()\n",
    "        self.alpha = alpha\n",
    "\n",
    "    def forward(self, x):\n",
    "        return self.model(x)\n",
    "\n",
    "    def training_step(self, batch, batch_idx):\n",
    "        x, y, _ = batch\n",
    "        logits, feat3d, feat2d = self(x)\n",
    "        \n",
    "        loss_cls = self.criterion(logits, y)\n",
    "        loss_distill = self.criterion_distill(feat3d, feat2d.detach())\n",
    "        \n",
    "        loss = loss_cls + self.alpha * loss_distill\n",
    "        acc = self.accuracy(logits, y)\n",
    "\n",
    "        self.log_dict(\n",
    "            {\n",
    "                \"train_loss\": loss,\n",
    "                \"train_acc\": acc,\n",
    "            },\n",
    "            on_step=True,\n",
    "            on_epoch=True,\n",
    "            prog_bar=True,\n",
    "        )\n",
    "\n",
    "        return loss\n",
    "\n",
    "    def validation_step(self, batch, batch_idx):\n",
    "        x, y, _ = batch\n",
    "        logits = self(x)\n",
    "        loss = self.criterion(logits, y)\n",
    "        acc = self.accuracy(logits, y)\n",
    "\n",
    "        self.log_dict(\n",
    "            {\n",
    "                \"val_loss\": loss,\n",
    "                \"val_acc\": acc,\n",
    "            },\n",
    "            on_step=True,\n",
    "            on_epoch=True,\n",
    "        )\n",
    "\n",
    "        return loss\n",
    "\n",
    "    def test_step(self, batch, batch_idx):\n",
    "        x, y, _ = batch\n",
    "        logits = self(x)\n",
    "        loss = self.criterion(logits, y)\n",
    "        acc = self.accuracy(logits, y)\n",
    "\n",
    "        self.log_dict(\n",
    "            {\n",
    "                \"test_loss\": loss,\n",
    "                \"test_acc\": acc,\n",
    "            },\n",
    "            on_step=True,\n",
    "            on_epoch=True,\n",
    "        )\n",
    "\n",
    "        return loss\n",
    "\n",
    "    def configure_optimizers(self):\n",
    "        optimizer = torch.optim.SGD(\n",
    "            self.parameters(), lr=self.params.lr, momentum=0.9, weight_decay=1e-4\n",
    "        )\n",
    "\n",
    "        scheduler = torch.optim.lr_scheduler.StepLR(optimizer, step_size=30, gamma=0.1)\n",
    "        return [optimizer], [scheduler]\n",
    "\n",
    "    def on_before_optimizer_step(self, optimizer):\n",
    "        norm_order = 2.0\n",
    "        norms = grad_norm(self, norm_type=norm_order)\n",
    "        self.log(\n",
    "            \"grad_norm\",\n",
    "            norms[f\"grad_{norm_order}_norm_total\"],\n",
    "            on_step=True,\n",
    "            on_epoch=False,\n",
    "        )"
   ]
  },
  {
   "cell_type": "code",
   "execution_count": 11,
   "metadata": {},
   "outputs": [
    {
     "data": {
      "text/plain": [
       "24"
      ]
     },
     "execution_count": 11,
     "metadata": {},
     "output_type": "execute_result"
    }
   ],
   "source": [
    "os.cpu_count()"
   ]
  },
  {
   "cell_type": "code",
   "execution_count": 12,
   "metadata": {},
   "outputs": [
    {
     "name": "stdout",
     "output_type": "stream",
     "text": [
      "Number of model paramteres: {'trainable': '314,469', 'total': '45,647,415'}\n"
     ]
    }
   ],
   "source": [
    "hparams = HParams(\n",
    "    num_workers=20,\n",
    "    clip_format=\"CTHW\",\n",
    "    arch=\"d3d\",\n",
    "    num_epoch=20,\n",
    "    clip_len=32,\n",
    ")\n",
    "data_module = VideoDataModule(hparams)\n",
    "\n",
    "agent = D3DNet(\n",
    "    n_outputs=hparams.n_classes\n",
    ")\n",
    "\n",
    "print(\"Number of model paramteres:\", count_trainable_parameters(agent))"
   ]
  },
  {
   "cell_type": "code",
   "execution_count": 13,
   "metadata": {},
   "outputs": [
    {
     "name": "stdout",
     "output_type": "stream",
     "text": [
      "The tensorboard extension is already loaded. To reload it, use:\n",
      "  %reload_ext tensorboard\n"
     ]
    },
    {
     "data": {
      "text/plain": [
       "Reusing TensorBoard on port 6006 (pid 5733), started 3:06:11 ago. (Use '!kill 5733' to kill it.)"
      ]
     },
     "metadata": {},
     "output_type": "display_data"
    },
    {
     "data": {
      "text/html": [
       "\n",
       "      <iframe id=\"tensorboard-frame-6d7da468fe4a3fec\" width=\"100%\" height=\"800\" frameborder=\"0\">\n",
       "      </iframe>\n",
       "      <script>\n",
       "        (function() {\n",
       "          const frame = document.getElementById(\"tensorboard-frame-6d7da468fe4a3fec\");\n",
       "          const url = new URL(\"http://localhost\");\n",
       "          const port = 6006;\n",
       "          if (port) {\n",
       "            url.port = port;\n",
       "          }\n",
       "          frame.src = url;\n",
       "        })();\n",
       "      </script>\n",
       "    "
      ],
      "text/plain": [
       "<IPython.core.display.HTML object>"
      ]
     },
     "metadata": {},
     "output_type": "display_data"
    }
   ],
   "source": [
    "%load_ext tensorboard\n",
    "%tensorboard --logdir logs"
   ]
  },
  {
   "cell_type": "code",
   "execution_count": 14,
   "metadata": {},
   "outputs": [
    {
     "name": "stderr",
     "output_type": "stream",
     "text": [
      "GPU available: True (cuda), used: True\n",
      "TPU available: False, using: 0 TPU cores\n",
      "HPU available: False, using: 0 HPUs\n",
      "LOCAL_RANK: 0 - CUDA_VISIBLE_DEVICES: [0]\n",
      "\n",
      "  | Name              | Type              | Params | Mode \n",
      "----------------------------------------------------------------\n",
      "0 | model             | D3DNet            | 45.6 M | train\n",
      "1 | accuracy          | MulticlassF1Score | 0      | train\n",
      "2 | criterion         | CrossEntropyLoss  | 0      | train\n",
      "3 | criterion_distill | MSELoss           | 0      | train\n",
      "----------------------------------------------------------------\n",
      "314 K     Trainable params\n",
      "45.3 M    Non-trainable params\n",
      "45.6 M    Total params\n",
      "182.590   Total estimated model params size (MB)\n",
      "381       Modules in train mode\n",
      "0         Modules in eval mode\n"
     ]
    },
    {
     "data": {
      "application/vnd.jupyter.widget-view+json": {
       "model_id": "d251442c4a814166af867def0934e167",
       "version_major": 2,
       "version_minor": 0
      },
      "text/plain": [
       "Sanity Checking: |          | 0/? [00:00<?, ?it/s]"
      ]
     },
     "metadata": {},
     "output_type": "display_data"
    },
    {
     "data": {
      "application/vnd.jupyter.widget-view+json": {
       "model_id": "0eef3e8f0cf14c48a6af9433a54f6ae1",
       "version_major": 2,
       "version_minor": 0
      },
      "text/plain": [
       "Training: |          | 0/? [00:00<?, ?it/s]"
      ]
     },
     "metadata": {},
     "output_type": "display_data"
    },
    {
     "data": {
      "application/vnd.jupyter.widget-view+json": {
       "model_id": "e5bb21aa1b5441b99842f71a1156397a",
       "version_major": 2,
       "version_minor": 0
      },
      "text/plain": [
       "Validation: |          | 0/? [00:00<?, ?it/s]"
      ]
     },
     "metadata": {},
     "output_type": "display_data"
    },
    {
     "data": {
      "application/vnd.jupyter.widget-view+json": {
       "model_id": "13ebed72d21440f29bc09b5de880df23",
       "version_major": 2,
       "version_minor": 0
      },
      "text/plain": [
       "Validation: |          | 0/? [00:00<?, ?it/s]"
      ]
     },
     "metadata": {},
     "output_type": "display_data"
    },
    {
     "data": {
      "application/vnd.jupyter.widget-view+json": {
       "model_id": "455aa42cbf33428287da55b08e01829f",
       "version_major": 2,
       "version_minor": 0
      },
      "text/plain": [
       "Validation: |          | 0/? [00:00<?, ?it/s]"
      ]
     },
     "metadata": {},
     "output_type": "display_data"
    },
    {
     "data": {
      "application/vnd.jupyter.widget-view+json": {
       "model_id": "ade04558c68e4e5b99cde0151f79113d",
       "version_major": 2,
       "version_minor": 0
      },
      "text/plain": [
       "Validation: |          | 0/? [00:00<?, ?it/s]"
      ]
     },
     "metadata": {},
     "output_type": "display_data"
    },
    {
     "data": {
      "application/vnd.jupyter.widget-view+json": {
       "model_id": "6b09247b804f43fc8058bb435ad048e4",
       "version_major": 2,
       "version_minor": 0
      },
      "text/plain": [
       "Validation: |          | 0/? [00:00<?, ?it/s]"
      ]
     },
     "metadata": {},
     "output_type": "display_data"
    },
    {
     "data": {
      "application/vnd.jupyter.widget-view+json": {
       "model_id": "153e19669cc3495f97e01d8a5aafcfd0",
       "version_major": 2,
       "version_minor": 0
      },
      "text/plain": [
       "Validation: |          | 0/? [00:00<?, ?it/s]"
      ]
     },
     "metadata": {},
     "output_type": "display_data"
    },
    {
     "data": {
      "application/vnd.jupyter.widget-view+json": {
       "model_id": "7f0da9c004164268b36f937db0448f11",
       "version_major": 2,
       "version_minor": 0
      },
      "text/plain": [
       "Validation: |          | 0/? [00:00<?, ?it/s]"
      ]
     },
     "metadata": {},
     "output_type": "display_data"
    },
    {
     "data": {
      "application/vnd.jupyter.widget-view+json": {
       "model_id": "266ef2a1f59049bca130682de69ae05e",
       "version_major": 2,
       "version_minor": 0
      },
      "text/plain": [
       "Validation: |          | 0/? [00:00<?, ?it/s]"
      ]
     },
     "metadata": {},
     "output_type": "display_data"
    },
    {
     "data": {
      "application/vnd.jupyter.widget-view+json": {
       "model_id": "3f9aa6e4a29f461e94f6892f06ccef4b",
       "version_major": 2,
       "version_minor": 0
      },
      "text/plain": [
       "Validation: |          | 0/? [00:00<?, ?it/s]"
      ]
     },
     "metadata": {},
     "output_type": "display_data"
    },
    {
     "data": {
      "application/vnd.jupyter.widget-view+json": {
       "model_id": "c9c1ce991ac842a89b8e40e0f767bf6d",
       "version_major": 2,
       "version_minor": 0
      },
      "text/plain": [
       "Validation: |          | 0/? [00:00<?, ?it/s]"
      ]
     },
     "metadata": {},
     "output_type": "display_data"
    },
    {
     "data": {
      "application/vnd.jupyter.widget-view+json": {
       "model_id": "4e92420f894c431784fd1e0b8c595619",
       "version_major": 2,
       "version_minor": 0
      },
      "text/plain": [
       "Validation: |          | 0/? [00:00<?, ?it/s]"
      ]
     },
     "metadata": {},
     "output_type": "display_data"
    },
    {
     "data": {
      "application/vnd.jupyter.widget-view+json": {
       "model_id": "82de9491374f49d0a5888e2d3f08a7ae",
       "version_major": 2,
       "version_minor": 0
      },
      "text/plain": [
       "Validation: |          | 0/? [00:00<?, ?it/s]"
      ]
     },
     "metadata": {},
     "output_type": "display_data"
    },
    {
     "data": {
      "application/vnd.jupyter.widget-view+json": {
       "model_id": "2efb377079d84ba48f021c0bd2057c84",
       "version_major": 2,
       "version_minor": 0
      },
      "text/plain": [
       "Validation: |          | 0/? [00:00<?, ?it/s]"
      ]
     },
     "metadata": {},
     "output_type": "display_data"
    },
    {
     "data": {
      "application/vnd.jupyter.widget-view+json": {
       "model_id": "1c9cab1510e9461f8cb07b1837f04152",
       "version_major": 2,
       "version_minor": 0
      },
      "text/plain": [
       "Validation: |          | 0/? [00:00<?, ?it/s]"
      ]
     },
     "metadata": {},
     "output_type": "display_data"
    },
    {
     "data": {
      "application/vnd.jupyter.widget-view+json": {
       "model_id": "aabbd76c26594847ab8433b869de8638",
       "version_major": 2,
       "version_minor": 0
      },
      "text/plain": [
       "Validation: |          | 0/? [00:00<?, ?it/s]"
      ]
     },
     "metadata": {},
     "output_type": "display_data"
    },
    {
     "data": {
      "application/vnd.jupyter.widget-view+json": {
       "model_id": "acd7f76d3f5c4941ba4ca46b61418646",
       "version_major": 2,
       "version_minor": 0
      },
      "text/plain": [
       "Validation: |          | 0/? [00:00<?, ?it/s]"
      ]
     },
     "metadata": {},
     "output_type": "display_data"
    },
    {
     "data": {
      "application/vnd.jupyter.widget-view+json": {
       "model_id": "ae73c3861c8f477eb44f23cae077b139",
       "version_major": 2,
       "version_minor": 0
      },
      "text/plain": [
       "Validation: |          | 0/? [00:00<?, ?it/s]"
      ]
     },
     "metadata": {},
     "output_type": "display_data"
    },
    {
     "data": {
      "application/vnd.jupyter.widget-view+json": {
       "model_id": "37c21caff8dd4e7a9528180d7296e667",
       "version_major": 2,
       "version_minor": 0
      },
      "text/plain": [
       "Validation: |          | 0/? [00:00<?, ?it/s]"
      ]
     },
     "metadata": {},
     "output_type": "display_data"
    },
    {
     "data": {
      "application/vnd.jupyter.widget-view+json": {
       "model_id": "988d981fb6ef4eb490f1c400a8ba32e3",
       "version_major": 2,
       "version_minor": 0
      },
      "text/plain": [
       "Validation: |          | 0/? [00:00<?, ?it/s]"
      ]
     },
     "metadata": {},
     "output_type": "display_data"
    },
    {
     "data": {
      "application/vnd.jupyter.widget-view+json": {
       "model_id": "e234c150c0114d5591a9c42fee3ffb27",
       "version_major": 2,
       "version_minor": 0
      },
      "text/plain": [
       "Validation: |          | 0/? [00:00<?, ?it/s]"
      ]
     },
     "metadata": {},
     "output_type": "display_data"
    },
    {
     "name": "stderr",
     "output_type": "stream",
     "text": [
      "`Trainer.fit` stopped: `max_epochs=20` reached.\n"
     ]
    }
   ],
   "source": [
    "checkpoint_callback_img = ModelCheckpoint(\n",
    "    monitor='val_loss',\n",
    "    dirpath=hparams.output_dir,\n",
    "    filename=f\"best_model_{hparams.arch}\",\n",
    "    save_top_k=1,\n",
    "    mode='min',\n",
    ")\n",
    "\n",
    "model = train_model(model=agent, params=hparams)\n",
    "\n",
    "logger = TensorBoardLogger(\"logs\", name=hparams.arch)\n",
    "\n",
    "trainer = Trainer(\n",
    "    max_epochs=hparams.num_epoch,\n",
    "    callbacks=[checkpoint_callback_img],\n",
    "    accelerator=\"auto\", \n",
    "    devices=\"auto\",\n",
    "    logger=logger\n",
    ")\n",
    "\n",
    "trainer.fit(model, data_module)"
   ]
  },
  {
   "cell_type": "code",
   "execution_count": 15,
   "metadata": {},
   "outputs": [
    {
     "name": "stderr",
     "output_type": "stream",
     "text": [
      "Restoring states from the checkpoint path at /home/slauva/Documents/innopolis/Computer Vision 2025/final/temp/saved_models/best_model_d3d-v1.ckpt\n",
      "LOCAL_RANK: 0 - CUDA_VISIBLE_DEVICES: [0]\n",
      "Loaded model weights from the checkpoint at /home/slauva/Documents/innopolis/Computer Vision 2025/final/temp/saved_models/best_model_d3d-v1.ckpt\n"
     ]
    },
    {
     "data": {
      "application/vnd.jupyter.widget-view+json": {
       "model_id": "76c1202f9780438da4a6d3e68102418c",
       "version_major": 2,
       "version_minor": 0
      },
      "text/plain": [
       "Testing: |          | 0/? [00:00<?, ?it/s]"
      ]
     },
     "metadata": {},
     "output_type": "display_data"
    },
    {
     "name": "stdout",
     "output_type": "stream",
     "text": [
      "────────────────────────────────────────────────────────────────────────────────────────────────────────────────────────\n",
      "       Test metric             DataLoader 0\n",
      "────────────────────────────────────────────────────────────────────────────────────────────────────────────────────────\n",
      "     test_acc_epoch         0.6732443571090698\n",
      "     test_loss_epoch         3.59652042388916\n",
      "────────────────────────────────────────────────────────────────────────────────────────────────────────────────────────\n"
     ]
    }
   ],
   "source": [
    "best_model_path = checkpoint_callback_img.best_model_path\n",
    "info = trainer.test(\n",
    "    model=model,\n",
    "    dataloaders=data_module,\n",
    "    ckpt_path=best_model_path\n",
    ")"
   ]
  }
 ],
 "metadata": {
  "kernelspec": {
   "display_name": ".venv",
   "language": "python",
   "name": "python3"
  },
  "language_info": {
   "codemirror_mode": {
    "name": "ipython",
    "version": 3
   },
   "file_extension": ".py",
   "mimetype": "text/x-python",
   "name": "python",
   "nbconvert_exporter": "python",
   "pygments_lexer": "ipython3",
   "version": "3.11.8"
  }
 },
 "nbformat": 4,
 "nbformat_minor": 2
}
